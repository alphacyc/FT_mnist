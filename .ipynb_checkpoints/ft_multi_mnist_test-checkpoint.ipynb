{
 "cells": [
  {
   "cell_type": "code",
   "execution_count": 3,
   "metadata": {
    "cellView": "both",
    "colab": {
     "autoexec": {
      "startup": false,
      "wait_interval": 0
     }
    },
    "colab_type": "code",
    "id": "apJbCsBHl-2A"
   },
   "outputs": [],
   "source": [
    "#Choose GPUs and CPUs\n",
    "\n",
    "#If want to choose GPU to use\n",
    "#import os\n",
    "#os.environ[\"CUDA_VISIBLE_DEVICES\"]=\"1,4\"\n",
    "#This will make it so that only the 0th GPU is visible to TensorFlow.\n",
    "#In your case, you can choose any in the range [0, 3].\n",
    "#If you wanted, for example, the 0th and 2nd GPUs to both be visible, replace \"0\" with \"0,2\"\n",
    "\n",
    "import tensorflow as tf\n",
    "import keras\n",
    "from keras import backend as K\n",
    "from keras.datasets import mnist\n",
    "\n",
    "\n",
    "GPU=True\n",
    "CPU=False\n",
    "num_cores = 8\n",
    "\n",
    "if GPU:\n",
    "    num_GPU = 1\n",
    "    num_CPU = 2\n",
    "if CPU:\n",
    "    num_CPU = num_cores\n",
    "    num_GPU = 0\n",
    "\n",
    "config = tf.ConfigProto(intra_op_parallelism_threads=num_cores,\\\n",
    "        inter_op_parallelism_threads=num_cores, allow_soft_placement=True,\\\n",
    "        device_count = {'CPU' : num_CPU, 'GPU' : num_GPU},\\\n",
    "#        gpu_options=tf.GPUOptions(per_process_gpu_memory_fraction=0.5))\n",
    "                       )\n",
    "config.gpu_options.allow_growth = True\n",
    "\n",
    "session = tf.Session(config=config)\n",
    "K.set_session(session)\n"
   ]
  },
  {
   "cell_type": "code",
   "execution_count": 70,
   "metadata": {},
   "outputs": [],
   "source": [
    "from __future__ import print_function\n",
    "import matplotlib.pyplot as plt\n",
    "import numpy as np\n",
    "from six.moves.urllib.request import urlretrieve\n",
    "from six.moves import cPickle as pickle\n",
    "\n",
    "\n",
    "from keras.layers import Conv2D, MaxPool2D\n",
    "from keras.models import Sequential\n",
    "from keras.layers import Dense, Dropout, Activation, Flatten\n",
    "from keras.utils import to_categorical\n",
    "\n",
    "from tqdm import tqdm_notebook, tnrange\n",
    "\n",
    "import cv2\n",
    "from scipy.fftpack import fftn,fftshift\n",
    "\n",
    "\n",
    "# Config the matplotlib backend as plotting inline in IPython\n",
    "%matplotlib inline"
   ]
  },
  {
   "cell_type": "markdown",
   "metadata": {},
   "source": [
    "# Load MNIST data from Keras"
   ]
  },
  {
   "cell_type": "code",
   "execution_count": 119,
   "metadata": {},
   "outputs": [
    {
     "name": "stdout",
     "output_type": "stream",
     "text": [
      "train_dataset shape: (60000, 28, 28, 1)\n",
      "60000 train samples\n",
      "10000 test samples\n"
     ]
    }
   ],
   "source": [
    "\n",
    "# input image dimensions\n",
    "img_rows, img_cols = 28, 28\n",
    "num_classes=10\n",
    "\n",
    "# the data, split between train and test sets\n",
    "(x_train, y_train), (x_test, y_test) = mnist.load_data()\n",
    "\n",
    "if K.image_data_format() == 'channels_first':\n",
    "    x_train = x_train.reshape(x_train.shape[0], 1, img_rows, img_cols)\n",
    "    x_test = x_test.reshape(x_test.shape[0], 1, img_rows, img_cols)\n",
    "    input_shape = (1, img_rows, img_cols)\n",
    "else:\n",
    "    x_train = x_train.reshape(x_train.shape[0], img_rows, img_cols, 1)\n",
    "    x_test = x_test.reshape(x_test.shape[0], img_rows, img_cols, 1)\n",
    "    input_shape = (img_rows, img_cols, 1)\n",
    "\n",
    "train_dataset = x_train.astype('float32')\n",
    "test_dataset = x_test.astype('float32')\n",
    "train_dataset /= 255\n",
    "test_dataset /= 255\n",
    "print('train_dataset shape:', x_train.shape)\n",
    "print(x_train.shape[0], 'train samples')\n",
    "print(x_test.shape[0], 'test samples')\n",
    "\n",
    "# convert class vectors to binary class matrices\n",
    "train_labels = keras.utils.to_categorical(y_train, num_classes)\n",
    "test_labels = keras.utils.to_categorical(y_test, num_classes)\n"
   ]
  },
  {
   "cell_type": "markdown",
   "metadata": {},
   "source": [
    "# Pad numpy array \n",
    "Want get 36x36 which is how much the multiMNIST will be"
   ]
  },
  {
   "cell_type": "code",
   "execution_count": 120,
   "metadata": {},
   "outputs": [
    {
     "name": "stdout",
     "output_type": "stream",
     "text": [
      "(60000, 36, 36, 1)\n",
      "(10000, 36, 36, 1)\n"
     ]
    }
   ],
   "source": [
    "train_dataset=np.pad(train_dataset, ((0,0),(4,4),(4,4),(0,0)), 'constant', constant_values=(0,0))\n",
    "print (train_dataset.shape)\n",
    "\n",
    "test_dataset=np.pad(test_dataset, ((0,0),(4,4),(4,4),(0,0)), 'constant', constant_values=(0,0))\n",
    "print (test_dataset.shape)"
   ]
  },
  {
   "cell_type": "markdown",
   "metadata": {},
   "source": [
    "# Augment the data with rotations and translations"
   ]
  },
  {
   "cell_type": "code",
   "execution_count": 121,
   "metadata": {},
   "outputs": [
    {
     "name": "stdout",
     "output_type": "stream",
     "text": [
      "Doing rotations\n"
     ]
    },
    {
     "data": {
      "application/vnd.jupyter.widget-view+json": {
       "model_id": "13a8062ca9564367be85779de2658afe",
       "version_major": 2,
       "version_minor": 0
      },
      "text/plain": [
       "HBox(children=(IntProgress(value=0, max=60000), HTML(value=u'')))"
      ]
     },
     "metadata": {},
     "output_type": "display_data"
    },
    {
     "name": "stdout",
     "output_type": "stream",
     "text": [
      "\n",
      "Doing displacements\n",
      "1.0000302009116304 5.9999829486631056\n"
     ]
    },
    {
     "data": {
      "application/vnd.jupyter.widget-view+json": {
       "model_id": "9bbd73482c8141ea884de4297aa4319c",
       "version_major": 2,
       "version_minor": 0
      },
      "text/plain": [
       "HBox(children=(IntProgress(value=0, max=60000), HTML(value=u'')))"
      ]
     },
     "metadata": {},
     "output_type": "display_data"
    },
    {
     "name": "stdout",
     "output_type": "stream",
     "text": [
      "\n",
      "Doing displacements and rotations\n",
      "1.000036701337498 5.999747238964373\n"
     ]
    },
    {
     "data": {
      "application/vnd.jupyter.widget-view+json": {
       "model_id": "565b9a0057a34e26bb0a34844ae62abe",
       "version_major": 2,
       "version_minor": 0
      },
      "text/plain": [
       "HBox(children=(IntProgress(value=0, max=60000), HTML(value=u'')))"
      ]
     },
     "metadata": {},
     "output_type": "display_data"
    },
    {
     "name": "stdout",
     "output_type": "stream",
     "text": [
      "\n"
     ]
    }
   ],
   "source": [
    "aug_data=[]\n",
    "aug_labels=[]\n",
    "cols, rows=36,36\n",
    "\n",
    "dims=train_dataset.shape\n",
    "#Rotations, 1 each\n",
    "ang = (np.random.rand(dims[0]))*30+5\n",
    "print (\"Doing rotations\")\n",
    "for i in tqdm_notebook(range(dims[0])):\n",
    "    M = cv2.getRotationMatrix2D((cols/2,rows/2),ang[i],1)\n",
    "    tmp = cv2.warpAffine(train_dataset[i-1],M,(cols,rows))\n",
    "    aug_data.append(tmp)\n",
    "    aug_labels.append(train_labels[i])\n",
    "\n",
    "\n",
    "print (\"Doing displacements\")\n",
    "rows,cols = dims[1],dims[2]\n",
    "\n",
    "disps = (np.random.rand(dims[0],2))*5+1 # At least 1 pixel\n",
    "print (min(disps[:,0]), max(disps[:,0]))\n",
    "for i in tqdm_notebook(range(dims[0])):\n",
    "    M = np.float32([[1,0,disps[i,0]],[0,1,disps[i,1]]])\n",
    "    tmp = cv2.warpAffine(train_dataset[i],M,(cols,rows))\n",
    "    aug_data.append(tmp)\n",
    "    aug_labels.append(train_labels[i])\n",
    "   \n",
    "\n",
    "print (\"Doing displacements and rotations\")\n",
    "#Both displace and rotate\n",
    "ang = (np.random.rand(dims[0]))*30+5\n",
    "disps = (np.random.rand(dims[0],2))*5+1 # At least 1 pixel\n",
    "print (min(disps[:,0]), max(disps[:,0]))\n",
    "for i in tqdm_notebook(range(dims[0])):\n",
    "    M = np.float32([[1,0,disps[i,0]],[0,1,disps[i,1]]])\n",
    "    tmp = cv2.warpAffine(train_dataset[i],M,(cols,rows))\n",
    "    M = cv2.getRotationMatrix2D((cols/2,rows/2),ang[i],1)\n",
    "    tmp = cv2.warpAffine(tmp,M,(cols,rows))\n",
    "    aug_data.append(tmp)\n",
    "    aug_labels.append(train_labels[i])"
   ]
  },
  {
   "cell_type": "code",
   "execution_count": 122,
   "metadata": {},
   "outputs": [
    {
     "name": "stdout",
     "output_type": "stream",
     "text": [
      "(180000, 36, 36)\n"
     ]
    }
   ],
   "source": [
    "aug_data=np.asarray(aug_data)\n",
    "aug_labels=np.asarray(aug_labels)\n",
    "print (aug_data.shape)\n",
    "aug_data=np.reshape(aug_data,(aug_data.shape[0],36,36,1))"
   ]
  },
  {
   "cell_type": "code",
   "execution_count": 123,
   "metadata": {},
   "outputs": [
    {
     "name": "stdout",
     "output_type": "stream",
     "text": [
      "(240000, 36, 36, 1) (240000, 10)\n"
     ]
    }
   ],
   "source": [
    "all_data=np.concatenate([train_dataset,aug_data],axis=0)\n",
    "all_labels=np.concatenate([train_labels,aug_labels],axis=0)\n",
    "print (all_data.shape, all_labels.shape)"
   ]
  },
  {
   "cell_type": "markdown",
   "metadata": {},
   "source": [
    "# FT the training and test data"
   ]
  },
  {
   "cell_type": "code",
   "execution_count": 124,
   "metadata": {},
   "outputs": [
    {
     "data": {
      "application/vnd.jupyter.widget-view+json": {
       "model_id": "87004112313b4039ad74311b8e05637a",
       "version_major": 2,
       "version_minor": 0
      },
      "text/plain": [
       "HBox(children=(IntProgress(value=0, max=240000), HTML(value=u'')))"
      ]
     },
     "metadata": {},
     "output_type": "display_data"
    },
    {
     "name": "stdout",
     "output_type": "stream",
     "text": [
      "\n"
     ]
    },
    {
     "data": {
      "application/vnd.jupyter.widget-view+json": {
       "model_id": "d7b761c8d5df4ebc8dd28517b30e01fd",
       "version_major": 2,
       "version_minor": 0
      },
      "text/plain": [
       "HBox(children=(IntProgress(value=0, max=10000), HTML(value=u'')))"
      ]
     },
     "metadata": {},
     "output_type": "display_data"
    },
    {
     "name": "stdout",
     "output_type": "stream",
     "text": [
      "\n",
      "(240000, 36, 36, 1)\n",
      "(10000, 36, 36, 1)\n"
     ]
    }
   ],
   "source": [
    "dims=all_data.shape\n",
    "ft_train=[]\n",
    "for i in tnrange(dims[0]):\n",
    "    ft_train.append(np.abs(fftshift(fftn(all_data[i,:,:]))))\n",
    "\n",
    "dims=test_dataset.shape\n",
    "ft_test=[]\n",
    "for i in tqdm_notebook(range(dims[0])):\n",
    "    ft_test.append(np.abs(fftshift(fftn(test_dataset[i,:,:])))) #Don't forget to take abs!\n",
    "\n",
    "ft_train=np.asarray(ft_train)\n",
    "ft_test=np.asarray(ft_test)\n",
    "print (ft_train.shape)\n",
    "print (ft_test.shape)"
   ]
  },
  {
   "cell_type": "code",
   "execution_count": 126,
   "metadata": {},
   "outputs": [
    {
     "data": {
      "text/plain": [
       "<matplotlib.colorbar.Colorbar at 0x143708f90>"
      ]
     },
     "execution_count": 126,
     "metadata": {},
     "output_type": "execute_result"
    },
    {
     "data": {
      "text/plain": [
       "<Figure size 432x288 with 0 Axes>"
      ]
     },
     "metadata": {},
     "output_type": "display_data"
    },
    {
     "data": {
      "image/png": "[encoded data removed]",
      "text/plain": [
       "<Figure size 576x432 with 3 Axes>"
      ]
     },
     "metadata": {},
     "output_type": "display_data"
    }
   ],
   "source": [
    "i=200000\n",
    "plt.viridis()\n",
    "f,axarr=plt.subplots(1,2,figsize=(8, 6))\n",
    "axarr[0].imshow(all_data[i].squeeze())\n",
    "img=axarr[1].imshow(ft_train[i].squeeze())\n",
    "f.colorbar(img, fraction=0.046, pad=0.04)"
   ]
  },
  {
   "cell_type": "markdown",
   "metadata": {},
   "source": [
    "# O.K now try CNN"
   ]
  },
  {
   "cell_type": "code",
   "execution_count": 127,
   "metadata": {},
   "outputs": [
    {
     "name": "stdout",
     "output_type": "stream",
     "text": [
      "(240000, 36, 36, 1)\n",
      "(240000, 36, 36, 1)\n",
      "_________________________________________________________________\n",
      "Layer (type)                 Output Shape              Param #   \n",
      "=================================================================\n",
      "conv2d_33 (Conv2D)           (None, 34, 34, 32)        320       \n",
      "_________________________________________________________________\n",
      "conv2d_34 (Conv2D)           (None, 32, 32, 32)        9248      \n",
      "_________________________________________________________________\n",
      "max_pooling2d_17 (MaxPooling (None, 16, 16, 32)        0         \n",
      "_________________________________________________________________\n",
      "conv2d_35 (Conv2D)           (None, 14, 14, 64)        18496     \n",
      "_________________________________________________________________\n",
      "conv2d_36 (Conv2D)           (None, 12, 12, 64)        36928     \n",
      "_________________________________________________________________\n",
      "max_pooling2d_18 (MaxPooling (None, 6, 6, 64)          0         \n",
      "_________________________________________________________________\n",
      "flatten_9 (Flatten)          (None, 2304)              0         \n",
      "_________________________________________________________________\n",
      "dense_17 (Dense)             (None, 1200)              2766000   \n",
      "_________________________________________________________________\n",
      "dropout_9 (Dropout)          (None, 1200)              0         \n",
      "_________________________________________________________________\n",
      "dense_18 (Dense)             (None, 10)                12010     \n",
      "=================================================================\n",
      "Total params: 2,843,002\n",
      "Trainable params: 2,843,002\n",
      "Non-trainable params: 0\n",
      "_________________________________________________________________\n",
      "None\n",
      "Train on 216000 samples, validate on 24000 samples\n",
      "Epoch 1/10\n",
      "215552/216000 [============================>.] - ETA: 0s - loss: 1.2064 - acc: 0.6603Epoch 00000: saving model to tmp_models/weights.00.hdf5\n",
      "216000/216000 [==============================] - 19s - loss: 1.2059 - acc: 0.6604 - val_loss: 0.3892 - val_acc: 0.9130\n",
      "Epoch 2/10\n",
      "215296/216000 [============================>.] - ETA: 0s - loss: 0.9283 - acc: 0.7041Epoch 00001: saving model to tmp_models/weights.01.hdf5\n",
      "216000/216000 [==============================] - 17s - loss: 0.9282 - acc: 0.7041 - val_loss: 0.4854 - val_acc: 0.9263\n",
      "Epoch 3/10\n",
      "215296/216000 [============================>.] - ETA: 0s - loss: 0.8775 - acc: 0.7122Epoch 00002: saving model to tmp_models/weights.02.hdf5\n",
      "216000/216000 [==============================] - 17s - loss: 0.8776 - acc: 0.7122 - val_loss: 0.3677 - val_acc: 0.9292\n",
      "Epoch 4/10\n",
      "215296/216000 [============================>.] - ETA: 0s - loss: 0.8509 - acc: 0.7176Epoch 00003: saving model to tmp_models/weights.03.hdf5\n",
      "216000/216000 [==============================] - 17s - loss: 0.8511 - acc: 0.7175 - val_loss: 0.2932 - val_acc: 0.9397\n",
      "Epoch 5/10\n",
      "215296/216000 [============================>.] - ETA: 0s - loss: 0.8312 - acc: 0.7209Epoch 00004: saving model to tmp_models/weights.04.hdf5\n",
      "216000/216000 [==============================] - 17s - loss: 0.8315 - acc: 0.7208 - val_loss: 0.3764 - val_acc: 0.9294\n",
      "Epoch 6/10\n",
      "215296/216000 [============================>.] - ETA: 0s - loss: 0.8152 - acc: 0.7237Epoch 00005: saving model to tmp_models/weights.05.hdf5\n",
      "216000/216000 [==============================] - 17s - loss: 0.8153 - acc: 0.7237 - val_loss: 0.2988 - val_acc: 0.9383\n",
      "Epoch 7/10\n",
      "215296/216000 [============================>.] - ETA: 0s - loss: 0.8021 - acc: 0.7269Epoch 00006: saving model to tmp_models/weights.06.hdf5\n",
      "216000/216000 [==============================] - 17s - loss: 0.8020 - acc: 0.7270 - val_loss: 0.3133 - val_acc: 0.9359\n",
      "Epoch 8/10\n",
      "215296/216000 [============================>.] - ETA: 0s - loss: 0.7904 - acc: 0.7292Epoch 00007: saving model to tmp_models/weights.07.hdf5\n",
      "216000/216000 [==============================] - 17s - loss: 0.7905 - acc: 0.7291 - val_loss: 0.3472 - val_acc: 0.9276\n",
      "Epoch 9/10\n",
      "215296/216000 [============================>.] - ETA: 0s - loss: 0.7732 - acc: 0.7330Epoch 00008: saving model to tmp_models/weights.08.hdf5\n",
      "216000/216000 [==============================] - 17s - loss: 0.7732 - acc: 0.7330 - val_loss: 0.2699 - val_acc: 0.9402\n",
      "Epoch 10/10\n",
      "215296/216000 [============================>.] - ETA: 0s - loss: 0.7619 - acc: 0.7361Epoch 00009: saving model to tmp_models/weights.09.hdf5\n",
      "216000/216000 [==============================] - 17s - loss: 0.7619 - acc: 0.7361 - val_loss: 0.2863 - val_acc: 0.9390\n"
     ]
    }
   ],
   "source": [
    "dims=ft_train.shape\n",
    "print (dims)\n",
    "trainee=ft_train.reshape(dims[0],dims[1],dims[2],1)\n",
    "dims=test_dataset.shape\n",
    "testee=ft_test.reshape(dims[0],dims[1],dims[2],1)\n",
    "print (trainee.shape)\n",
    "\n",
    "\n",
    "np.random.seed(123)\n",
    "model=Sequential()\n",
    "\n",
    "model.add(Conv2D(32,(3,3), activation='relu', input_shape=(36,36,1),data_format='channels_last'))\n",
    "model.add(Conv2D(32,(3,3), activation='relu'))\n",
    "model.add(MaxPool2D(pool_size=(2,2)))\n",
    "model.add(Conv2D(64,(3,3), activation='relu'))\n",
    "model.add(Conv2D(64,(3,3), activation='relu'))\n",
    "model.add(MaxPool2D(pool_size=(2,2)))\n",
    "model.add(Flatten())\n",
    "model.add(Dense(1200, activation='relu'))\n",
    "model.add(Dropout(0.5))\n",
    "model.add(Dense(10, activation='softmax'))\n",
    "\n",
    "#parallel_model = ModelMGPU(model, gpus=num_GPU)\n",
    "model.compile(loss='categorical_crossentropy', optimizer='adam', metrics=['accuracy'])\n",
    "\n",
    "print (model.summary())\n",
    "#print (parallel_model.summary())\n",
    "\n",
    "\n",
    "\n",
    "checkpoints=keras.callbacks.ModelCheckpoint('tmp_models/weights.{epoch:02d}.hdf5', monitor='val_loss', \n",
    "                                verbose=1, save_best_only=False, save_weights_only=False, mode='auto', period=1)\n",
    "\n",
    "history=model.fit(trainee, all_labels, batch_size=256, verbose=1, epochs=10, validation_split = 0.1, callbacks=[checkpoints])"
   ]
  },
  {
   "cell_type": "code",
   "execution_count": 128,
   "metadata": {},
   "outputs": [
    {
     "data": {
      "image/png": "[encoded data removed]",
      "text/plain": [
       "<Figure size 576x432 with 2 Axes>"
      ]
     },
     "metadata": {},
     "output_type": "display_data"
    }
   ],
   "source": [
    "hist=history\n",
    "epochs=np.asarray(history.epoch)+1\n",
    "\n",
    "%matplotlib inline\n",
    "import matplotlib\n",
    "plt.style.use('seaborn-white')\n",
    "matplotlib.rc('font',family='Times New Roman')\n",
    "matplotlib.rcParams['font.size'] = 20\n",
    "\n",
    "f, axarr = plt.subplots(2, sharex=True, figsize=(8, 6))\n",
    "\n",
    "axarr[0].set(ylabel='Loss')\n",
    "axarr[0].plot(epochs,hist.history['loss'], 'C3o', label='Training')\n",
    "axarr[0].plot(epochs,hist.history['val_loss'], 'C3-', label='Validation')\n",
    "axarr[0].grid()\n",
    "axarr[0].legend(loc='center right', bbox_to_anchor=(1.0, 0.5))\n",
    "\n",
    "\n",
    "axarr[1].plot(epochs,hist.history['acc'], 'C0o', label='Training')\n",
    "axarr[1].plot(epochs,hist.history['val_acc'], 'C0-', label='Validation')\n",
    "plt.legend(loc='center right', bbox_to_anchor=(1.0, 0.5))\n",
    "plt.xlabel('Epochs')\n",
    "plt.ylabel('Accuracy')\n",
    "plt.tight_layout()\n",
    "plt.grid()\n",
    "plt.tick_params(which='both', width=2)\n",
    "plt.tick_params(which='major', length=7)\n",
    "plt.tick_params(which='minor', length=5)"
   ]
  },
  {
   "cell_type": "code",
   "execution_count": 129,
   "metadata": {},
   "outputs": [
    {
     "name": "stdout",
     "output_type": "stream",
     "text": [
      " 9600/10000 [===========================>..] - ETA: 0s[0.1481072497110581, 0.9609]\n"
     ]
    }
   ],
   "source": [
    "from keras.models import Model, load_model\n",
    "model=load_model('tmp_models/weights.08.hdf5')\n",
    "model.compile(loss='categorical_crossentropy', optimizer='adam', metrics=['accuracy'])\n",
    "score=model.evaluate(testee, test_labels, verbose=1)\n",
    "print (score)"
   ]
  },
  {
   "cell_type": "code",
   "execution_count": 116,
   "metadata": {},
   "outputs": [],
   "source": [
    "preds=(model.predict(testee))"
   ]
  },
  {
   "cell_type": "code",
   "execution_count": 117,
   "metadata": {},
   "outputs": [
    {
     "name": "stdout",
     "output_type": "stream",
     "text": [
      "6\n"
     ]
    },
    {
     "data": {
      "image/png": "[encoded data removed]",
      "text/plain": [
       "<Figure size 576x432 with 2 Axes>"
      ]
     },
     "metadata": {},
     "output_type": "display_data"
    }
   ],
   "source": [
    "i=100\n",
    "f,axarr=plt.subplots(1,2,figsize=(8, 6))\n",
    "axarr[0].imshow(test_dataset[i].squeeze(),cmap='viridis')\n",
    "axarr[1].imshow(testee[i].squeeze(), cmap='viridis')\n",
    "print (np.argmax(preds[i]))"
   ]
  },
  {
   "cell_type": "code",
   "execution_count": null,
   "metadata": {
    "collapsed": true
   },
   "outputs": [],
   "source": []
  }
 ],
 "metadata": {
  "colab": {
   "default_view": {},
   "name": "1_notmnist.ipynb",
   "provenance": [],
   "version": "0.3.2",
   "views": {}
  },
  "kernelspec": {
   "display_name": "Python 2",
   "language": "python",
   "name": "python2"
  },
  "language_info": {
   "codemirror_mode": {
    "name": "ipython",
    "version": 2
   },
   "file_extension": ".py",
   "mimetype": "text/x-python",
   "name": "python",
   "nbconvert_exporter": "python",
   "pygments_lexer": "ipython2",
   "version": "2.7.15"
  }
 },
 "nbformat": 4,
 "nbformat_minor": 1
}
