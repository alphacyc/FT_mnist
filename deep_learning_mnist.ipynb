{
 "cells": [
  {
   "cell_type": "code",
   "execution_count": 1,
   "metadata": {
    "cellView": "both",
    "colab": {
     "autoexec": {
      "startup": false,
      "wait_interval": 0
     }
    },
    "colab_type": "code",
    "id": "apJbCsBHl-2A"
   },
   "outputs": [
    {
     "name": "stderr",
     "output_type": "stream",
     "text": [
      "Using TensorFlow backend.\n"
     ]
    }
   ],
   "source": [
    "#Choose GPUs and CPUs\n",
    "\n",
    "#If want to choose GPU to use\n",
    "import os\n",
    "os.environ[\"CUDA_VISIBLE_DEVICES\"]=\"1,4\"\n",
    "#This will make it so that only the 0th GPU is visible to TensorFlow.\n",
    "#In your case, you can choose any in the range [0, 3].\n",
    "#If you wanted, for example, the 0th and 2nd GPUs to both be visible, replace \"0\" with \"0,2\"\n",
    "\n",
    "import tensorflow as tf\n",
    "import keras\n",
    "from keras import backend as K\n",
    "from keras.datasets import mnist\n",
    "\n",
    "\n",
    "GPU=True\n",
    "CPU=False\n",
    "num_cores = 4\n",
    "\n",
    "if GPU:\n",
    "    num_GPU = 2\n",
    "    num_CPU = 1\n",
    "if CPU:\n",
    "    num_CPU = 1\n",
    "    num_GPU = 0\n",
    "\n",
    "config = tf.ConfigProto(intra_op_parallelism_threads=num_cores,\\\n",
    "        inter_op_parallelism_threads=num_cores, allow_soft_placement=True,\\\n",
    "        device_count = {'CPU' : num_CPU, 'GPU' : num_GPU},\\\n",
    "#        gpu_options=tf.GPUOptions(per_process_gpu_memory_fraction=0.5))\n",
    "                       )\n",
    "session = tf.Session(config=config)\n",
    "K.set_session(session)\n",
    "# These are all the modules we'll be using later. Make sure you can import them\n",
    "# before proceeding further.\n",
    "from __future__ import print_function\n",
    "import imageio\n",
    "import matplotlib.pyplot as plt\n",
    "import numpy as np\n",
    "import os\n",
    "import sys\n",
    "import tarfile\n",
    "from IPython.display import display, Image\n",
    "from sklearn.linear_model import LogisticRegression\n",
    "from six.moves.urllib.request import urlretrieve\n",
    "from six.moves import cPickle as pickle\n",
    "\n",
    "# Config the matplotlib backend as plotting inline in IPython\n",
    "%matplotlib inline"
   ]
  },
  {
   "cell_type": "code",
   "execution_count": 2,
   "metadata": {
    "collapsed": true
   },
   "outputs": [],
   "source": [
    "from keras import Model\n",
    "from keras.utils import multi_gpu_model\n",
    "\n",
    "\n",
    "class ModelMGPU(Model):\n",
    "    def __init__(self, ser_model, gpus):\n",
    "        pmodel = multi_gpu_model(ser_model, gpus)\n",
    "        self.__dict__.update(pmodel.__dict__)\n",
    "        self._smodel = ser_model\n",
    "\n",
    "    def __getattribute__(self, attrname):\n",
    "        '''Override load and save methods to be used from the serial-model. The\n",
    "        serial-model holds references to the weights in the multi-gpu model.\n",
    "        '''\n",
    "        # return Model.__getattribute__(self, attrname)\n",
    "        if 'load' in attrname or 'save' in attrname:\n",
    "            return getattr(self._smodel, attrname)\n",
    "\n",
    "        return super(ModelMGPU, self).__getattribute__(attrname)"
   ]
  },
  {
   "cell_type": "markdown",
   "metadata": {},
   "source": [
    "# Load MNIST data from Keras"
   ]
  },
  {
   "cell_type": "code",
   "execution_count": 3,
   "metadata": {},
   "outputs": [
    {
     "name": "stdout",
     "output_type": "stream",
     "text": [
      "train_dataset shape: (60000, 28, 28, 1)\n",
      "60000 train samples\n",
      "10000 test samples\n"
     ]
    }
   ],
   "source": [
    "\n",
    "# input image dimensions\n",
    "img_rows, img_cols = 28, 28\n",
    "num_classes=10\n",
    "\n",
    "# the data, split between train and test sets\n",
    "(x_train, y_train), (x_test, y_test) = mnist.load_data()\n",
    "\n",
    "if K.image_data_format() == 'channels_first':\n",
    "    x_train = x_train.reshape(x_train.shape[0], 1, img_rows, img_cols)\n",
    "    x_test = x_test.reshape(x_test.shape[0], 1, img_rows, img_cols)\n",
    "    input_shape = (1, img_rows, img_cols)\n",
    "else:\n",
    "    x_train = x_train.reshape(x_train.shape[0], img_rows, img_cols, 1)\n",
    "    x_test = x_test.reshape(x_test.shape[0], img_rows, img_cols, 1)\n",
    "    input_shape = (img_rows, img_cols, 1)\n",
    "\n",
    "train_dataset = x_train.astype('float32')\n",
    "test_dataset = x_test.astype('float32')\n",
    "train_dataset /= 255\n",
    "test_dataset /= 255\n",
    "print('train_dataset shape:', x_train.shape)\n",
    "print(x_train.shape[0], 'train samples')\n",
    "print(x_test.shape[0], 'test samples')\n",
    "\n",
    "# convert class vectors to binary class matrices\n",
    "train_labels = keras.utils.to_categorical(y_train, num_classes)\n",
    "test_labels = keras.utils.to_categorical(y_test, num_classes)\n"
   ]
  },
  {
   "cell_type": "markdown",
   "metadata": {},
   "source": [
    "# FT the training and test data"
   ]
  },
  {
   "cell_type": "code",
   "execution_count": 4,
   "metadata": {},
   "outputs": [
    {
     "name": "stdout",
     "output_type": "stream",
     "text": [
      "(60000, 28, 28, 1)\n",
      "(10000, 28, 28, 1)\n"
     ]
    }
   ],
   "source": [
    "from scipy.fftpack import fftn,fftshift\n",
    "dims=train_dataset.shape\n",
    "ft_train=[]\n",
    "for i in range(dims[0]):\n",
    "    ft_train.append(np.abs(fftshift(fftn(train_dataset[i,:,:]))))\n",
    "\n",
    "dims=test_dataset.shape\n",
    "ft_test=[]\n",
    "for i in range(dims[0]):\n",
    "    ft_test.append(np.abs(fftshift(fftn(test_dataset[i,:,:])))) #Don't forget to take abs!\n",
    "\n",
    "ft_train=np.asarray(ft_train)\n",
    "ft_test=np.asarray(ft_test)\n",
    "print (ft_train.shape)\n",
    "print (ft_test.shape)"
   ]
  },
  {
   "cell_type": "code",
   "execution_count": 5,
   "metadata": {},
   "outputs": [
    {
     "data": {
      "text/plain": [
       "<matplotlib.image.AxesImage at 0x7fd112cdb890>"
      ]
     },
     "execution_count": 5,
     "metadata": {},
     "output_type": "execute_result"
    },
    {
     "data": {
      "image/png": "[encoded data removed]",
      "text/plain": [
       "<matplotlib.figure.Figure at 0x7fd1d8152190>"
      ]
     },
     "metadata": {},
     "output_type": "display_data"
    }
   ],
   "source": [
    "f,axarr=plt.subplots(1,2,figsize=(8, 6))\n",
    "axarr[0].imshow(train_dataset[1].squeeze())\n",
    "axarr[1].imshow(ft_train[1].squeeze())"
   ]
  },
  {
   "cell_type": "markdown",
   "metadata": {},
   "source": [
    "# O.K now try CNN"
   ]
  },
  {
   "cell_type": "code",
   "execution_count": 29,
   "metadata": {},
   "outputs": [
    {
     "name": "stdout",
     "output_type": "stream",
     "text": [
      "(60000, 28, 28, 1)\n",
      "(60000, 28, 28, 1)\n",
      "_________________________________________________________________\n",
      "Layer (type)                 Output Shape              Param #   \n",
      "=================================================================\n",
      "conv2d_1 (Conv2D)            (None, 26, 26, 32)        320       \n",
      "_________________________________________________________________\n",
      "conv2d_2 (Conv2D)            (None, 24, 24, 32)        9248      \n",
      "_________________________________________________________________\n",
      "max_pooling2d_1 (MaxPooling2 (None, 12, 12, 32)        0         \n",
      "_________________________________________________________________\n",
      "conv2d_3 (Conv2D)            (None, 10, 10, 64)        18496     \n",
      "_________________________________________________________________\n",
      "conv2d_4 (Conv2D)            (None, 8, 8, 64)          36928     \n",
      "_________________________________________________________________\n",
      "max_pooling2d_2 (MaxPooling2 (None, 4, 4, 64)          0         \n",
      "_________________________________________________________________\n",
      "flatten_1 (Flatten)          (None, 1024)              0         \n",
      "_________________________________________________________________\n",
      "dense_1 (Dense)              (None, 1200)              1230000   \n",
      "_________________________________________________________________\n",
      "dropout_1 (Dropout)          (None, 1200)              0         \n",
      "_________________________________________________________________\n",
      "dense_2 (Dense)              (None, 10)                12010     \n",
      "=================================================================\n",
      "Total params: 1,307,002\n",
      "Trainable params: 1,307,002\n",
      "Non-trainable params: 0\n",
      "_________________________________________________________________\n",
      "None\n",
      "__________________________________________________________________________________________________\n",
      "Layer (type)                    Output Shape         Param #     Connected to                     \n",
      "==================================================================================================\n",
      "conv2d_1_input (InputLayer)     (None, 28, 28, 1)    0                                            \n",
      "__________________________________________________________________________________________________\n",
      "lambda_1 (Lambda)               (None, 28, 28, 1)    0           conv2d_1_input[0][0]             \n",
      "__________________________________________________________________________________________________\n",
      "lambda_2 (Lambda)               (None, 28, 28, 1)    0           conv2d_1_input[0][0]             \n",
      "__________________________________________________________________________________________________\n",
      "sequential_1 (Sequential)       (None, 10)           1307002     lambda_1[0][0]                   \n",
      "                                                                 lambda_2[0][0]                   \n",
      "__________________________________________________________________________________________________\n",
      "dense_2 (Concatenate)           (None, 10)           0           sequential_1[1][0]               \n",
      "                                                                 sequential_1[2][0]               \n",
      "==================================================================================================\n",
      "Total params: 1,307,002\n",
      "Trainable params: 1,307,002\n",
      "Non-trainable params: 0\n",
      "__________________________________________________________________________________________________\n",
      "None\n",
      "Train on 54000 samples, validate on 6000 samples\n",
      "Epoch 1/10\n",
      "53504/54000 [============================>.] - ETA: 0s - loss: 0.5919 - acc: 0.8095\n",
      "Epoch 00001: saving model to tmp_models/weights.01.hdf5\n",
      "54000/54000 [==============================] - 6s 112us/step - loss: 0.5887 - acc: 0.8105 - val_loss: 0.2211 - val_acc: 0.9260\n",
      "Epoch 2/10\n",
      "53760/54000 [============================>.] - ETA: 0s - loss: 0.2260 - acc: 0.9266\n",
      "Epoch 00002: saving model to tmp_models/weights.02.hdf5\n",
      "54000/54000 [==============================] - 6s 108us/step - loss: 0.2257 - acc: 0.9267 - val_loss: 0.1661 - val_acc: 0.9462\n",
      "Epoch 3/10\n",
      "53760/54000 [============================>.] - ETA: 0s - loss: 0.1755 - acc: 0.9413- ETA: 0s - loss: 0.1770 - acc: 0.\n",
      "Epoch 00003: saving model to tmp_models/weights.03.hdf5\n",
      "54000/54000 [==============================] - 6s 109us/step - loss: 0.1752 - acc: 0.9414 - val_loss: 0.1616 - val_acc: 0.9468\n",
      "Epoch 4/10\n",
      "53760/54000 [============================>.] - ETA: 0s - loss: 0.1498 - acc: 0.9497\n",
      "Epoch 00004: saving model to tmp_models/weights.04.hdf5\n",
      "54000/54000 [==============================] - 6s 107us/step - loss: 0.1498 - acc: 0.9497 - val_loss: 0.1511 - val_acc: 0.9503\n",
      "Epoch 5/10\n",
      "53504/54000 [============================>.] - ETA: 0s - loss: 0.1282 - acc: 0.9568\n",
      "Epoch 00005: saving model to tmp_models/weights.05.hdf5\n",
      "54000/54000 [==============================] - 6s 107us/step - loss: 0.1279 - acc: 0.9569 - val_loss: 0.1365 - val_acc: 0.9533\n",
      "Epoch 6/10\n",
      "53760/54000 [============================>.] - ETA: 0s - loss: 0.1134 - acc: 0.9610\n",
      "Epoch 00006: saving model to tmp_models/weights.06.hdf5\n",
      "54000/54000 [==============================] - 6s 108us/step - loss: 0.1134 - acc: 0.9611 - val_loss: 0.1490 - val_acc: 0.9507\n",
      "Epoch 7/10\n",
      "53504/54000 [============================>.] - ETA: 0s - loss: 0.1000 - acc: 0.9656\n",
      "Epoch 00007: saving model to tmp_models/weights.07.hdf5\n",
      "54000/54000 [==============================] - 6s 107us/step - loss: 0.1002 - acc: 0.9655 - val_loss: 0.1349 - val_acc: 0.9560\n",
      "Epoch 8/10\n",
      "53760/54000 [============================>.] - ETA: 0s - loss: 0.0897 - acc: 0.9682\n",
      "Epoch 00008: saving model to tmp_models/weights.08.hdf5\n",
      "54000/54000 [==============================] - 6s 108us/step - loss: 0.0897 - acc: 0.9682 - val_loss: 0.1344 - val_acc: 0.9592\n",
      "Epoch 9/10\n",
      "53504/54000 [============================>.] - ETA: 0s - loss: 0.0808 - acc: 0.9717\n",
      "Epoch 00009: saving model to tmp_models/weights.09.hdf5\n",
      "54000/54000 [==============================] - 6s 109us/step - loss: 0.0813 - acc: 0.9715 - val_loss: 0.1388 - val_acc: 0.9587\n",
      "Epoch 10/10\n",
      "53760/54000 [============================>.] - ETA: 0s - loss: 0.0755 - acc: 0.9736\n",
      "Epoch 00010: saving model to tmp_models/weights.10.hdf5\n",
      "54000/54000 [==============================] - 6s 108us/step - loss: 0.0754 - acc: 0.9736 - val_loss: 0.1505 - val_acc: 0.9580\n"
     ]
    }
   ],
   "source": [
    "dims=ft_train.shape\n",
    "print (dims)\n",
    "trainee=ft_train.reshape(dims[0],dims[1],dims[2],1)\n",
    "dims=test_dataset.shape\n",
    "testee=ft_test.reshape(dims[0],dims[1],dims[2],1)\n",
    "print (trainee.shape)\n",
    "\n",
    "\n",
    "from keras.layers import Conv2D, MaxPool2D\n",
    "from keras.models import Sequential\n",
    "from keras.layers import Dense, Dropout, Activation, Flatten\n",
    "from keras import backend as K\n",
    "from keras.utils import to_categorical\n",
    "\n",
    "K.clear_session()\n",
    "np.random.seed(123)\n",
    "model=Sequential()\n",
    "\n",
    "model.add(Conv2D(32,(3,3), activation='relu', input_shape=(28,28,1),data_format='channels_last'))\n",
    "model.add(Conv2D(32,(3,3), activation='relu'))\n",
    "model.add(MaxPool2D(pool_size=(2,2)))\n",
    "model.add(Conv2D(64,(3,3), activation='relu'))\n",
    "model.add(Conv2D(64,(3,3), activation='relu'))\n",
    "model.add(MaxPool2D(pool_size=(2,2)))\n",
    "model.add(Flatten())\n",
    "model.add(Dense(1200, activation='relu'))\n",
    "model.add(Dropout(0.5))\n",
    "model.add(Dense(10, activation='softmax'))\n",
    "\n",
    "parallel_model = ModelMGPU(model, gpus=num_GPU)\n",
    "parallel_model.compile(loss='categorical_crossentropy', optimizer='adam', metrics=['accuracy'])\n",
    "\n",
    "print (model.summary())\n",
    "print (parallel_model.summary())\n",
    "\n",
    "\n",
    "\n",
    "checkpoints=keras.callbacks.ModelCheckpoint('tmp_models/weights.{epoch:02d}.hdf5', monitor='val_loss', \n",
    "                                verbose=1, save_best_only=False, save_weights_only=False, mode='auto', period=1)\n",
    "\n",
    "history=parallel_model.fit(trainee, train_labels, batch_size=256, verbose=1, epochs=10, validation_split = 0.1, callbacks=[checkpoints])"
   ]
  },
  {
   "cell_type": "code",
   "execution_count": 30,
   "metadata": {},
   "outputs": [
    {
     "data": {
      "image/png": "[encoded data removed]",
      "text/plain": [
       "<matplotlib.figure.Figure at 0x7fd0e5a58e10>"
      ]
     },
     "metadata": {},
     "output_type": "display_data"
    }
   ],
   "source": [
    "hist=history\n",
    "epochs=np.asarray(history.epoch)+1\n",
    "\n",
    "%matplotlib inline\n",
    "import matplotlib\n",
    "plt.style.use('seaborn-white')\n",
    "matplotlib.rc('font',family='Times New Roman')\n",
    "matplotlib.rcParams['font.size'] = 20\n",
    "\n",
    "f, axarr = plt.subplots(2, sharex=True, figsize=(8, 6))\n",
    "\n",
    "axarr[0].set(ylabel='Loss')\n",
    "axarr[0].plot(epochs,hist.history['loss'], 'C3o', label='Training')\n",
    "axarr[0].plot(epochs,hist.history['val_loss'], 'C3-', label='Validation')\n",
    "axarr[0].grid()\n",
    "axarr[0].legend(loc='center right', bbox_to_anchor=(1.5, 0.5))\n",
    "\n",
    "\n",
    "axarr[1].plot(epochs,hist.history['acc'], 'C0o', label='Training')\n",
    "axarr[1].plot(epochs,hist.history['val_acc'], 'C0-', label='Validation')\n",
    "plt.legend(loc='center right', bbox_to_anchor=(1.5, 0.5))\n",
    "plt.xlabel('Epochs')\n",
    "plt.ylabel('Accuracy')\n",
    "plt.tight_layout()\n",
    "plt.grid()\n",
    "plt.tick_params(which='both', width=2)\n",
    "plt.tick_params(which='major', length=7)\n",
    "plt.tick_params(which='minor', length=5)"
   ]
  },
  {
   "cell_type": "code",
   "execution_count": 31,
   "metadata": {},
   "outputs": [
    {
     "name": "stdout",
     "output_type": "stream",
     "text": [
      "10000/10000 [==============================] - 1s 143us/step\n",
      "[0.14821517372876405, 0.95540000000000003]\n"
     ]
    }
   ],
   "source": [
    "from keras.models import Model, load_model\n",
    "model=load_model('tmp_models/weights.08.hdf5')\n",
    "model.compile(loss='categorical_crossentropy', optimizer='adam', metrics=['accuracy'])\n",
    "score=model.evaluate(testee, test_labels, verbose=1)\n",
    "print (score)"
   ]
  },
  {
   "cell_type": "code",
   "execution_count": 32,
   "metadata": {
    "collapsed": true
   },
   "outputs": [],
   "source": [
    "preds=(model.predict(testee))"
   ]
  },
  {
   "cell_type": "code",
   "execution_count": 38,
   "metadata": {},
   "outputs": [
    {
     "name": "stdout",
     "output_type": "stream",
     "text": [
      "6\n"
     ]
    },
    {
     "data": {
      "image/png": "[encoded data removed]",
      "text/plain": [
       "<matplotlib.figure.Figure at 0x7fd0e7720410>"
      ]
     },
     "metadata": {},
     "output_type": "display_data"
    }
   ],
   "source": [
    "i=100\n",
    "f,axarr=plt.subplots(1,2,figsize=(8, 6))\n",
    "axarr[0].imshow(test_dataset[i].squeeze(),cmap='viridis')\n",
    "axarr[1].imshow(testee[i].squeeze(), cmap='viridis')\n",
    "print (np.argmax(preds[i]))"
   ]
  },
  {
   "cell_type": "code",
   "execution_count": null,
   "metadata": {
    "collapsed": true
   },
   "outputs": [],
   "source": []
  }
 ],
 "metadata": {
  "colab": {
   "default_view": {},
   "name": "1_notmnist.ipynb",
   "provenance": [],
   "version": "0.3.2",
   "views": {}
  },
  "kernelspec": {
   "display_name": "Python 2",
   "language": "python",
   "name": "python2"
  },
  "language_info": {
   "codemirror_mode": {
    "name": "ipython",
    "version": 2
   },
   "file_extension": ".py",
   "mimetype": "text/x-python",
   "name": "python",
   "nbconvert_exporter": "python",
   "pygments_lexer": "ipython2",
   "version": "2.7.14"
  }
 },
 "nbformat": 4,
 "nbformat_minor": 1
}
