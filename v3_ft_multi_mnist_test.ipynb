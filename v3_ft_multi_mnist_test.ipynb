{
 "cells": [
  {
   "cell_type": "markdown",
   "metadata": {},
   "source": [
    "### Improved CNN for FT of MNIST data. Also padded size.\n",
    "\n",
    "### v3 introduces 2 channels of intensity and phase to see if accuracy improves"
   ]
  },
  {
   "cell_type": "code",
   "execution_count": 1,
   "metadata": {
    "cellView": "both",
    "colab": {
     "autoexec": {
      "startup": false,
      "wait_interval": 0
     }
    },
    "colab_type": "code",
    "id": "apJbCsBHl-2A"
   },
   "outputs": [
    {
     "name": "stderr",
     "output_type": "stream",
     "text": [
      "/Users/mathew/anaconda/envs/egpu/lib/python2.7/site-packages/h5py/__init__.py:36: FutureWarning: Conversion of the second argument of issubdtype from `float` to `np.floating` is deprecated. In future, it will be treated as `np.float64 == np.dtype(float).type`.\n",
      "  from ._conv import register_converters as _register_converters\n",
      "Using TensorFlow backend.\n"
     ]
    }
   ],
   "source": [
    "#Choose GPUs and CPUs\n",
    "\n",
    "#If want to choose GPU to use\n",
    "#import os\n",
    "#os.environ[\"CUDA_VISIBLE_DEVICES\"]=\"1,4\"\n",
    "#This will make it so that only the 0th GPU is visible to TensorFlow.\n",
    "#In your case, you can choose any in the range [0, 3].\n",
    "#If you wanted, for example, the 0th and 2nd GPUs to both be visible, replace \"0\" with \"0,2\"\n",
    "\n",
    "import tensorflow as tf\n",
    "import keras\n",
    "from keras import backend as K\n",
    "from keras.datasets import mnist\n",
    "\n",
    "\n",
    "GPU=True\n",
    "CPU=False\n",
    "num_cores = 8\n",
    "\n",
    "if GPU:\n",
    "    num_GPU = 1\n",
    "    num_CPU = 2\n",
    "if CPU:\n",
    "    num_CPU = num_cores\n",
    "    num_GPU = 0\n",
    "\n",
    "config = tf.ConfigProto(intra_op_parallelism_threads=num_cores,\\\n",
    "        inter_op_parallelism_threads=num_cores, allow_soft_placement=True,\\\n",
    "        device_count = {'CPU' : num_CPU, 'GPU' : num_GPU},\\\n",
    "#        gpu_options=tf.GPUOptions(per_process_gpu_memory_fraction=0.5))\n",
    "                       )\n",
    "config.gpu_options.allow_growth = True\n",
    "\n",
    "session = tf.Session(config=config)\n",
    "K.set_session(session)\n"
   ]
  },
  {
   "cell_type": "code",
   "execution_count": 24,
   "metadata": {},
   "outputs": [],
   "source": [
    "from __future__ import print_function\n",
    "import matplotlib.pyplot as plt\n",
    "import numpy as np\n",
    "from six.moves.urllib.request import urlretrieve\n",
    "from six.moves import cPickle as pickle\n",
    "\n",
    "\n",
    "from keras.layers import Conv2D, MaxPool2D\n",
    "from keras.models import Sequential\n",
    "from keras.layers import Dense, Dropout, Activation, Flatten\n",
    "from keras.utils import to_categorical\n",
    "\n",
    "from tqdm import tqdm_notebook, tnrange\n",
    "\n",
    "import cv2\n",
    "from scipy.fftpack import fftn,fftshift\n",
    "from skimage.restoration import unwrap_phase\n",
    "\n",
    "\n",
    "# Config the matplotlib backend as plotting inline in IPython\n",
    "%matplotlib inline"
   ]
  },
  {
   "cell_type": "markdown",
   "metadata": {},
   "source": [
    "# Load MNIST data from Keras"
   ]
  },
  {
   "cell_type": "code",
   "execution_count": 3,
   "metadata": {},
   "outputs": [
    {
     "name": "stdout",
     "output_type": "stream",
     "text": [
      "train_dataset shape: (60000, 28, 28, 1)\n",
      "60000 train samples\n",
      "10000 test samples\n"
     ]
    }
   ],
   "source": [
    "\n",
    "# input image dimensions\n",
    "img_rows, img_cols = 28, 28\n",
    "num_classes=10\n",
    "\n",
    "# the data, split between train and test sets\n",
    "(x_train, y_train), (x_test, y_test) = mnist.load_data()\n",
    "\n",
    "if K.image_data_format() == 'channels_first':\n",
    "    x_train = x_train.reshape(x_train.shape[0], 1, img_rows, img_cols)\n",
    "    x_test = x_test.reshape(x_test.shape[0], 1, img_rows, img_cols)\n",
    "    input_shape = (1, img_rows, img_cols)\n",
    "else:\n",
    "    x_train = x_train.reshape(x_train.shape[0], img_rows, img_cols, 1)\n",
    "    x_test = x_test.reshape(x_test.shape[0], img_rows, img_cols, 1)\n",
    "    input_shape = (img_rows, img_cols, 1)\n",
    "\n",
    "train_dataset = x_train.astype('float32')\n",
    "test_dataset = x_test.astype('float32')\n",
    "train_dataset /= 255\n",
    "test_dataset /= 255\n",
    "print('train_dataset shape:', x_train.shape)\n",
    "print(x_train.shape[0], 'train samples')\n",
    "print(x_test.shape[0], 'test samples')\n",
    "\n",
    "# convert class vectors to binary class matrices\n",
    "train_labels = keras.utils.to_categorical(y_train, num_classes)\n",
    "test_labels = keras.utils.to_categorical(y_test, num_classes)\n"
   ]
  },
  {
   "cell_type": "markdown",
   "metadata": {},
   "source": [
    "# Pad numpy array \n",
    "Want get 36x36 which is how much the multiMNIST will be"
   ]
  },
  {
   "cell_type": "code",
   "execution_count": 4,
   "metadata": {},
   "outputs": [
    {
     "name": "stdout",
     "output_type": "stream",
     "text": [
      "(60000, 36, 36, 1)\n",
      "(10000, 36, 36, 1)\n"
     ]
    }
   ],
   "source": [
    "train_dataset=np.pad(train_dataset, ((0,0),(4,4),(4,4),(0,0)), 'constant', constant_values=(0,0))\n",
    "print (train_dataset.shape)\n",
    "\n",
    "test_dataset=np.pad(test_dataset, ((0,0),(4,4),(4,4),(0,0)), 'constant', constant_values=(0,0))\n",
    "print (test_dataset.shape)"
   ]
  },
  {
   "cell_type": "markdown",
   "metadata": {},
   "source": [
    "# FT the training and test data"
   ]
  },
  {
   "cell_type": "code",
   "execution_count": 37,
   "metadata": {},
   "outputs": [
    {
     "data": {
      "application/vnd.jupyter.widget-view+json": {
       "model_id": "13068546c5e24af98d8e2c91e5ce33fb",
       "version_major": 2,
       "version_minor": 0
      },
      "text/plain": [
       "HBox(children=(IntProgress(value=0, max=60000), HTML(value=u'')))"
      ]
     },
     "metadata": {},
     "output_type": "display_data"
    },
    {
     "name": "stdout",
     "output_type": "stream",
     "text": [
      "\n"
     ]
    },
    {
     "data": {
      "application/vnd.jupyter.widget-view+json": {
       "model_id": "98ed8aa72b4d4ec0b33d82fcb710cfa5",
       "version_major": 2,
       "version_minor": 0
      },
      "text/plain": [
       "HBox(children=(IntProgress(value=0, max=10000), HTML(value=u'')))"
      ]
     },
     "metadata": {},
     "output_type": "display_data"
    },
    {
     "name": "stdout",
     "output_type": "stream",
     "text": [
      "\n",
      "(60000, 36, 36, 2)\n",
      "(10000, 36, 36, 2)\n"
     ]
    }
   ],
   "source": [
    "dims=train_dataset.shape\n",
    "ft_train=np.zeros((dims[0], 36, 36, 2), float)\n",
    "for i in tnrange(dims[0]):\n",
    "    ft_train[i,:,:,0]=np.abs(fftshift(fftn(train_dataset[i,:,:]))).squeeze()\n",
    "    ft_train[i,:,:,1]=np.angle(fftshift(fftn(train_dataset[i,:,:]))).squeeze()\n",
    "    ft_train[i,:,:,1]=unwrap_phase(ft_train[i,:,:,1])\n",
    "\n",
    "dims=test_dataset.shape\n",
    "ft_test=np.zeros((dims[0], 36, 36, 2), float)\n",
    "for i in tqdm_notebook(range(dims[0])):\n",
    "    ft_test[i,:,:,0]=np.abs(fftshift(fftn(test_dataset[i,:,:]))).squeeze()\n",
    "    ft_test[i,:,:,1]=np.angle(fftshift(fftn(test_dataset[i,:,:]))).squeeze()\n",
    "    ft_test[i,:,:,1]=unwrap_phase(ft_test[i,:,:,1])\n",
    "\n",
    "print (ft_train.shape)\n",
    "print (ft_test.shape)"
   ]
  },
  {
   "cell_type": "code",
   "execution_count": 44,
   "metadata": {},
   "outputs": [
    {
     "data": {
      "text/plain": [
       "<matplotlib.colorbar.Colorbar at 0x16637e750>"
      ]
     },
     "execution_count": 44,
     "metadata": {},
     "output_type": "execute_result"
    },
    {
     "data": {
      "text/plain": [
       "<Figure size 432x288 with 0 Axes>"
      ]
     },
     "metadata": {},
     "output_type": "display_data"
    },
    {
     "data": {
      "image/png": "[encoded data removed]",
      "text/plain": [
       "<Figure size 576x432 with 3 Axes>"
      ]
     },
     "metadata": {},
     "output_type": "display_data"
    }
   ],
   "source": [
    "i=200\n",
    "plt.viridis()\n",
    "f,axarr=plt.subplots(1,2,figsize=(8, 6))\n",
    "axarr[0].imshow(np.abs(train_dataset[i].squeeze()))\n",
    "img=axarr[1].imshow(ft_train[i,:,:,1].squeeze())\n",
    "#from skimage.restoration import unwrap_phase\n",
    "#tmp=unwrap_phase(ft_train[i,:,:,1].squeeze())\n",
    "#img=axarr[1].imshow(tmp)\n",
    "f.colorbar(img, fraction=0.046, pad=0.04)"
   ]
  },
  {
   "cell_type": "markdown",
   "metadata": {},
   "source": [
    "# O.K now try CNN"
   ]
  },
  {
   "cell_type": "code",
   "execution_count": 39,
   "metadata": {},
   "outputs": [
    {
     "name": "stdout",
     "output_type": "stream",
     "text": [
      "(60000, 36, 36, 2)\n",
      "(60000, 36, 36, 2)\n",
      "_________________________________________________________________\n",
      "Layer (type)                 Output Shape              Param #   \n",
      "=================================================================\n",
      "conv2d_19 (Conv2D)           (None, 36, 36, 32)        608       \n",
      "_________________________________________________________________\n",
      "conv2d_20 (Conv2D)           (None, 36, 36, 32)        9248      \n",
      "_________________________________________________________________\n",
      "max_pooling2d_10 (MaxPooling (None, 18, 18, 32)        0         \n",
      "_________________________________________________________________\n",
      "conv2d_21 (Conv2D)           (None, 18, 18, 64)        18496     \n",
      "_________________________________________________________________\n",
      "conv2d_22 (Conv2D)           (None, 18, 18, 64)        36928     \n",
      "_________________________________________________________________\n",
      "max_pooling2d_11 (MaxPooling (None, 9, 9, 64)          0         \n",
      "_________________________________________________________________\n",
      "conv2d_23 (Conv2D)           (None, 9, 9, 128)         73856     \n",
      "_________________________________________________________________\n",
      "conv2d_24 (Conv2D)           (None, 9, 9, 128)         147584    \n",
      "_________________________________________________________________\n",
      "max_pooling2d_12 (MaxPooling (None, 4, 4, 128)         0         \n",
      "_________________________________________________________________\n",
      "flatten_4 (Flatten)          (None, 2048)              0         \n",
      "_________________________________________________________________\n",
      "dense_7 (Dense)              (None, 600)               1229400   \n",
      "_________________________________________________________________\n",
      "dropout_4 (Dropout)          (None, 600)               0         \n",
      "_________________________________________________________________\n",
      "dense_8 (Dense)              (None, 10)                6010      \n",
      "=================================================================\n",
      "Total params: 1,522,130\n",
      "Trainable params: 1,522,130\n",
      "Non-trainable params: 0\n",
      "_________________________________________________________________\n",
      "None\n",
      "Train on 54000 samples, validate on 6000 samples\n",
      "Epoch 1/10\n",
      "53504/54000 [============================>.] - ETA: 0s - loss: 0.6597 - acc: 0.7790Epoch 00000: saving model to ft_models/weights.00.hdf5\n",
      "54000/54000 [==============================] - 8s - loss: 0.6551 - acc: 0.7806 - val_loss: 0.1492 - val_acc: 0.9510\n",
      "Epoch 2/10\n",
      "53504/54000 [============================>.] - ETA: 0s - loss: 0.1481 - acc: 0.9547Epoch 00001: saving model to ft_models/weights.01.hdf5\n",
      "54000/54000 [==============================] - 7s - loss: 0.1476 - acc: 0.9549 - val_loss: 0.0915 - val_acc: 0.9718\n",
      "Epoch 3/10\n",
      "53504/54000 [============================>.] - ETA: 0s - loss: 0.0970 - acc: 0.9705Epoch 00002: saving model to ft_models/weights.02.hdf5\n",
      "54000/54000 [==============================] - 7s - loss: 0.0967 - acc: 0.9706 - val_loss: 0.0847 - val_acc: 0.9760\n",
      "Epoch 4/10\n",
      "53504/54000 [============================>.] - ETA: 0s - loss: 0.0739 - acc: 0.9770Epoch 00003: saving model to ft_models/weights.03.hdf5\n",
      "54000/54000 [==============================] - 7s - loss: 0.0740 - acc: 0.9769 - val_loss: 0.0703 - val_acc: 0.9795\n",
      "Epoch 5/10\n",
      "53504/54000 [============================>.] - ETA: 0s - loss: 0.0593 - acc: 0.9818Epoch 00004: saving model to ft_models/weights.04.hdf5\n",
      "54000/54000 [==============================] - 7s - loss: 0.0592 - acc: 0.9818 - val_loss: 0.0778 - val_acc: 0.9748\n",
      "Epoch 6/10\n",
      "53504/54000 [============================>.] - ETA: 0s - loss: 0.0478 - acc: 0.9849Epoch 00005: saving model to ft_models/weights.05.hdf5\n",
      "54000/54000 [==============================] - 7s - loss: 0.0476 - acc: 0.9850 - val_loss: 0.0697 - val_acc: 0.9800\n",
      "Epoch 7/10\n",
      "53504/54000 [============================>.] - ETA: 0s - loss: 0.0419 - acc: 0.9872Epoch 00006: saving model to ft_models/weights.06.hdf5\n",
      "54000/54000 [==============================] - 7s - loss: 0.0422 - acc: 0.9871 - val_loss: 0.0741 - val_acc: 0.9777\n",
      "Epoch 8/10\n",
      "53504/54000 [============================>.] - ETA: 0s - loss: 0.0383 - acc: 0.9873Epoch 00007: saving model to ft_models/weights.07.hdf5\n",
      "54000/54000 [==============================] - 7s - loss: 0.0382 - acc: 0.9874 - val_loss: 0.0676 - val_acc: 0.9833\n",
      "Epoch 9/10\n",
      "53504/54000 [============================>.] - ETA: 0s - loss: 0.0301 - acc: 0.9905Epoch 00008: saving model to ft_models/weights.08.hdf5\n",
      "54000/54000 [==============================] - 7s - loss: 0.0302 - acc: 0.9906 - val_loss: 0.0648 - val_acc: 0.9827\n",
      "Epoch 10/10\n",
      "53504/54000 [============================>.] - ETA: 0s - loss: 0.0318 - acc: 0.9898Epoch 00009: saving model to ft_models/weights.09.hdf5\n",
      "54000/54000 [==============================] - 7s - loss: 0.0319 - acc: 0.9897 - val_loss: 0.0873 - val_acc: 0.9790\n"
     ]
    }
   ],
   "source": [
    "dims=ft_train.shape\n",
    "print (dims)\n",
    "trainee=ft_train.reshape(dims[0],dims[1],dims[2],2)\n",
    "dims=test_dataset.shape\n",
    "testee=ft_test.reshape(dims[0],dims[1],dims[2],2)\n",
    "print (trainee.shape)\n",
    "\n",
    "w_size=3\n",
    "\n",
    "np.random.seed(123)\n",
    "model=Sequential()\n",
    "\n",
    "model.add(Conv2D(32,(w_size,w_size), activation='relu', input_shape=(36,36,2),\n",
    "                     data_format='channels_last', padding='same'))\n",
    "model.add(Conv2D(32,(w_size,w_size), activation='relu', padding='same'))\n",
    "model.add(MaxPool2D(pool_size=(2,2)))\n",
    "model.add(Conv2D(64,(w_size,w_size), activation='relu', padding='same'))\n",
    "model.add(Conv2D(64,(w_size,w_size), activation='relu', padding='same'))\n",
    "model.add(MaxPool2D(pool_size=(2,2)))\n",
    "model.add(Conv2D(128,(w_size,w_size), activation='relu', padding='same'))\n",
    "model.add(Conv2D(128,(w_size,w_size), activation='relu', padding='same'))\n",
    "model.add(MaxPool2D(pool_size=(2,2)))\n",
    "model.add(Flatten())\n",
    "model.add(Dense(600, activation='relu'))\n",
    "model.add(Dropout(0.5))\n",
    "model.add(Dense(10, activation='sigmoid')) \n",
    "\n",
    "#parallel_model = ModelMGPU(model, gpus=num_GPU)\n",
    "model.compile(loss='categorical_crossentropy', optimizer='adam', metrics=['accuracy'])\n",
    "\n",
    "print (model.summary())\n",
    "#print (parallel_model.summary())\n",
    "\n",
    "\n",
    "\n",
    "checkpoints=keras.callbacks.ModelCheckpoint('ft_models/weights.{epoch:02d}.hdf5', \n",
    "                                            monitor='val_loss', verbose=1, \n",
    "                                            save_best_only=False, \n",
    "                                            save_weights_only=False, \n",
    "                                            mode='auto', period=1)\n",
    "\n",
    "history=model.fit(trainee, train_labels, batch_size=256, verbose=1, epochs=10, \n",
    "                  validation_split = 0.1, callbacks=[checkpoints])"
   ]
  },
  {
   "cell_type": "code",
   "execution_count": 40,
   "metadata": {},
   "outputs": [
    {
     "data": {
      "image/png": "[encoded data removed]",
      "text/plain": [
       "<Figure size 576x432 with 2 Axes>"
      ]
     },
     "metadata": {},
     "output_type": "display_data"
    }
   ],
   "source": [
    "hist=history\n",
    "epochs=np.asarray(history.epoch)+1\n",
    "\n",
    "%matplotlib inline\n",
    "import matplotlib\n",
    "plt.style.use('seaborn-white')\n",
    "matplotlib.rc('font',family='Times New Roman')\n",
    "matplotlib.rcParams['font.size'] = 20\n",
    "\n",
    "f, axarr = plt.subplots(2, sharex=True, figsize=(8, 6))\n",
    "\n",
    "axarr[0].set(ylabel='Loss')\n",
    "axarr[0].plot(epochs,hist.history['loss'], 'C3o', label='Training')\n",
    "axarr[0].plot(epochs,hist.history['val_loss'], 'C3-', label='Validation')\n",
    "axarr[0].grid()\n",
    "axarr[0].legend(loc='center right', bbox_to_anchor=(1.0, 0.5))\n",
    "\n",
    "\n",
    "axarr[1].plot(epochs,hist.history['acc'], 'C0o', label='Training')\n",
    "axarr[1].plot(epochs,hist.history['val_acc'], 'C0-', label='Validation')\n",
    "plt.legend(loc='center right', bbox_to_anchor=(1.0, 0.5))\n",
    "plt.xlabel('Epochs')\n",
    "plt.ylabel('Accuracy')\n",
    "plt.tight_layout()\n",
    "plt.grid()\n",
    "plt.tick_params(which='both', width=2)\n",
    "plt.tick_params(which='major', length=7)\n",
    "plt.tick_params(which='minor', length=5)"
   ]
  },
  {
   "cell_type": "code",
   "execution_count": 42,
   "metadata": {},
   "outputs": [
    {
     "name": "stdout",
     "output_type": "stream",
     "text": [
      " 9952/10000 [============================>.] - ETA: 0s[0.06460006123538552, 0.983]\n"
     ]
    }
   ],
   "source": [
    "from keras.models import Model, load_model\n",
    "model=load_model('ft_models/weights.08.hdf5')\n",
    "model.compile(loss='categorical_crossentropy', optimizer='adam', metrics=['accuracy'])\n",
    "score=model.evaluate(testee, test_labels, verbose=1)\n",
    "print (score)"
   ]
  },
  {
   "cell_type": "code",
   "execution_count": 31,
   "metadata": {},
   "outputs": [],
   "source": [
    "preds=(model.predict(testee))"
   ]
  },
  {
   "cell_type": "code",
   "execution_count": 43,
   "metadata": {},
   "outputs": [
    {
     "name": "stdout",
     "output_type": "stream",
     "text": [
      "6\n"
     ]
    },
    {
     "data": {
      "image/png": "[encoded data removed]",
      "text/plain": [
       "<Figure size 576x432 with 3 Axes>"
      ]
     },
     "metadata": {},
     "output_type": "display_data"
    }
   ],
   "source": [
    "i=100\n",
    "f,axarr=plt.subplots(1,2,figsize=(8, 6))\n",
    "axarr[0].imshow(test_dataset[i].squeeze(),cmap='viridis')\n",
    "img=axarr[1].imshow(testee[i,:,:,1].squeeze(), cmap='viridis')\n",
    "plt.colorbar(img, fraction=0.046, pad=0.04)\n",
    "print (np.argmax(preds[i]))"
   ]
  },
  {
   "cell_type": "code",
   "execution_count": null,
   "metadata": {
    "collapsed": true
   },
   "outputs": [],
   "source": []
  }
 ],
 "metadata": {
  "colab": {
   "default_view": {},
   "name": "1_notmnist.ipynb",
   "provenance": [],
   "version": "0.3.2",
   "views": {}
  },
  "kernelspec": {
   "display_name": "Python [conda env:egpu]",
   "language": "python",
   "name": "conda-env-egpu-py"
  },
  "language_info": {
   "codemirror_mode": {
    "name": "ipython",
    "version": 2
   },
   "file_extension": ".py",
   "mimetype": "text/x-python",
   "name": "python",
   "nbconvert_exporter": "python",
   "pygments_lexer": "ipython2",
   "version": "2.7.15"
  }
 },
 "nbformat": 4,
 "nbformat_minor": 1
}
